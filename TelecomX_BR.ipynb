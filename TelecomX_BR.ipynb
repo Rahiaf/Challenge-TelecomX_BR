{
  "cells": [
    {
      "cell_type": "markdown",
      "metadata": {
        "id": "4foVEKhrlqcH"
      },
      "source": [
        "#📌 Extracão"
      ]
    },
    {
      "cell_type": "code",
      "execution_count": 7,
      "metadata": {
        "id": "1--uPM88l7JH"
      },
      "outputs": [
        {
          "name": "stdout",
          "output_type": "stream",
          "text": [
            "Dados carregados com sucesso!\n",
            "   customerID Churn                                           customer  \\\n",
            "0  0002-ORFBO    No  {'gender': 'Female', 'SeniorCitizen': 0, 'Part...   \n",
            "1  0003-MKNFE    No  {'gender': 'Male', 'SeniorCitizen': 0, 'Partne...   \n",
            "2  0004-TLHLJ   Yes  {'gender': 'Male', 'SeniorCitizen': 0, 'Partne...   \n",
            "3  0011-IGKFF   Yes  {'gender': 'Male', 'SeniorCitizen': 1, 'Partne...   \n",
            "4  0013-EXCHZ   Yes  {'gender': 'Female', 'SeniorCitizen': 1, 'Part...   \n",
            "\n",
            "                                             phone  \\\n",
            "0   {'PhoneService': 'Yes', 'MultipleLines': 'No'}   \n",
            "1  {'PhoneService': 'Yes', 'MultipleLines': 'Yes'}   \n",
            "2   {'PhoneService': 'Yes', 'MultipleLines': 'No'}   \n",
            "3   {'PhoneService': 'Yes', 'MultipleLines': 'No'}   \n",
            "4   {'PhoneService': 'Yes', 'MultipleLines': 'No'}   \n",
            "\n",
            "                                            internet  \\\n",
            "0  {'InternetService': 'DSL', 'OnlineSecurity': '...   \n",
            "1  {'InternetService': 'DSL', 'OnlineSecurity': '...   \n",
            "2  {'InternetService': 'Fiber optic', 'OnlineSecu...   \n",
            "3  {'InternetService': 'Fiber optic', 'OnlineSecu...   \n",
            "4  {'InternetService': 'Fiber optic', 'OnlineSecu...   \n",
            "\n",
            "                                             account  \n",
            "0  {'Contract': 'One year', 'PaperlessBilling': '...  \n",
            "1  {'Contract': 'Month-to-month', 'PaperlessBilli...  \n",
            "2  {'Contract': 'Month-to-month', 'PaperlessBilli...  \n",
            "3  {'Contract': 'Month-to-month', 'PaperlessBilli...  \n",
            "4  {'Contract': 'Month-to-month', 'PaperlessBilli...  \n"
          ]
        }
      ],
      "source": [
        "import pandas as pd\n",
        "import numpy as np\n",
        "import seaborn as sns\n",
        "import matplotlib.pyplot as plt\n",
        "\n",
        "url = 'https://raw.githubusercontent.com/ingridcristh/challenge2-data-science/main/TelecomX_Data.json'\n",
        "\n",
        "try:\n",
        "    df = pd.read_json(url)\n",
        "    \n",
        "    print(\"Dados carregados com sucesso!\")\n",
        "    print(df.head())\n",
        "\n",
        "except Exception as e:\n",
        "    print(f\"Ocorreu um erro ao carregar os dados: {e}\")"
      ]
    },
    {
      "cell_type": "markdown",
      "metadata": {
        "id": "1lSZP8zmmGZu"
      },
      "source": [
        "#🔧 Transformação"
      ]
    },
    {
      "cell_type": "code",
      "execution_count": 8,
      "metadata": {
        "id": "bsm-WTLjmHvt"
      },
      "outputs": [
        {
          "name": "stdout",
          "output_type": "stream",
          "text": [
            "--- Transformação Concluída ---\n",
            "Dados aninhados foram transformados em uma tabela plana e a coluna 'account.Charges.Total' foi limpa.\n",
            "\n",
            "Visualização do DataFrame Transformado:\n",
            "   customerID Churn customer.gender  customer.SeniorCitizen customer.Partner  \\\n",
            "0  0002-ORFBO    No          Female                       0              Yes   \n",
            "1  0003-MKNFE    No            Male                       0               No   \n",
            "2  0004-TLHLJ   Yes            Male                       0               No   \n",
            "3  0011-IGKFF   Yes            Male                       1              Yes   \n",
            "4  0013-EXCHZ   Yes          Female                       1              Yes   \n",
            "\n",
            "  customer.Dependents  customer.tenure phone.PhoneService phone.MultipleLines  \\\n",
            "0                 Yes                9                Yes                  No   \n",
            "1                  No                9                Yes                 Yes   \n",
            "2                  No                4                Yes                  No   \n",
            "3                  No               13                Yes                  No   \n",
            "4                  No                3                Yes                  No   \n",
            "\n",
            "  internet.InternetService  ... internet.OnlineBackup  \\\n",
            "0                      DSL  ...                   Yes   \n",
            "1                      DSL  ...                    No   \n",
            "2              Fiber optic  ...                    No   \n",
            "3              Fiber optic  ...                   Yes   \n",
            "4              Fiber optic  ...                    No   \n",
            "\n",
            "  internet.DeviceProtection internet.TechSupport internet.StreamingTV  \\\n",
            "0                        No                  Yes                  Yes   \n",
            "1                        No                   No                   No   \n",
            "2                       Yes                   No                   No   \n",
            "3                       Yes                   No                  Yes   \n",
            "4                        No                  Yes                  Yes   \n",
            "\n",
            "  internet.StreamingMovies account.Contract account.PaperlessBilling  \\\n",
            "0                       No         One year                      Yes   \n",
            "1                      Yes   Month-to-month                       No   \n",
            "2                       No   Month-to-month                      Yes   \n",
            "3                      Yes   Month-to-month                      Yes   \n",
            "4                       No   Month-to-month                      Yes   \n",
            "\n",
            "  account.PaymentMethod account.Charges.Monthly  account.Charges.Total  \n",
            "0          Mailed check                    65.6                 593.30  \n",
            "1          Mailed check                    59.9                 542.40  \n",
            "2      Electronic check                    73.9                 280.85  \n",
            "3      Electronic check                    98.0                1237.85  \n",
            "4          Mailed check                    83.9                 267.40  \n",
            "\n",
            "[5 rows x 21 columns]\n",
            "\n",
            "Verificação Final dos Tipos de Dados:\n",
            "<class 'pandas.core.frame.DataFrame'>\n",
            "RangeIndex: 7267 entries, 0 to 7266\n",
            "Data columns (total 21 columns):\n",
            " #   Column                     Non-Null Count  Dtype  \n",
            "---  ------                     --------------  -----  \n",
            " 0   customerID                 7267 non-null   object \n",
            " 1   Churn                      7267 non-null   object \n",
            " 2   customer.gender            7267 non-null   object \n",
            " 3   customer.SeniorCitizen     7267 non-null   int64  \n",
            " 4   customer.Partner           7267 non-null   object \n",
            " 5   customer.Dependents        7267 non-null   object \n",
            " 6   customer.tenure            7267 non-null   int64  \n",
            " 7   phone.PhoneService         7267 non-null   object \n",
            " 8   phone.MultipleLines        7267 non-null   object \n",
            " 9   internet.InternetService   7267 non-null   object \n",
            " 10  internet.OnlineSecurity    7267 non-null   object \n",
            " 11  internet.OnlineBackup      7267 non-null   object \n",
            " 12  internet.DeviceProtection  7267 non-null   object \n",
            " 13  internet.TechSupport       7267 non-null   object \n",
            " 14  internet.StreamingTV       7267 non-null   object \n",
            " 15  internet.StreamingMovies   7267 non-null   object \n",
            " 16  account.Contract           7267 non-null   object \n",
            " 17  account.PaperlessBilling   7267 non-null   object \n",
            " 18  account.PaymentMethod      7267 non-null   object \n",
            " 19  account.Charges.Monthly    7267 non-null   float64\n",
            " 20  account.Charges.Total      7267 non-null   float64\n",
            "dtypes: float64(2), int64(2), object(17)\n",
            "memory usage: 1.2+ MB\n"
          ]
        }
      ],
      "source": [
        "df_customer = pd.json_normalize(df['customer']).add_prefix('customer.')\n",
        "df_phone = pd.json_normalize(df['phone']).add_prefix('phone.')\n",
        "df_internet = pd.json_normalize(df['internet']).add_prefix('internet.')\n",
        "df_account = pd.json_normalize(df['account']).add_prefix('account.')\n",
        "\n",
        "df_transformado = pd.concat([\n",
        "    df[['customerID', 'Churn']],\n",
        "    df_customer,\n",
        "    df_phone,\n",
        "    df_internet,\n",
        "    df_account\n",
        "], axis=1)\n",
        "\n",
        "df_transformado['account.Charges.Total'] = pd.to_numeric(df_transformado['account.Charges.Total'], errors='coerce')\n",
        "df_transformado['account.Charges.Total'] = df_transformado['account.Charges.Total'].fillna(0)\n",
        "\n",
        "print(\"--- Transformação Concluída ---\")\n",
        "print(\"Dados aninhados foram transformados em uma tabela plana e a coluna 'account.Charges.Total' foi limpa.\")\n",
        "print(\"\\nVisualização do DataFrame Transformado:\")\n",
        "print(df_transformado.head())\n",
        "\n",
        "print(\"\\nVerificação Final dos Tipos de Dados:\")\n",
        "df_transformado.info()\n"
      ]
    },
    {
      "cell_type": "markdown",
      "metadata": {
        "id": "6XnTC2NTmMRL"
      },
      "source": [
        "#📊 Carga e análise"
      ]
    },
    {
      "cell_type": "code",
      "execution_count": 9,
      "metadata": {
        "id": "1jgUnLqTmPdd"
      },
      "outputs": [
        {
          "name": "stdout",
          "output_type": "stream",
          "text": [
            "--- ETAPA DE CARGA: VERIFICAÇÃO FINAL DOS DADOS ---\n",
            "\n",
            "Resumo Estatístico das Colunas Numéricas:\n",
            "       customer.SeniorCitizen  customer.tenure  account.Charges.Monthly  \\\n",
            "count             7267.000000      7267.000000              7267.000000   \n",
            "mean                 0.162653        32.346498                64.720098   \n",
            "std                  0.369074        24.571773                30.129572   \n",
            "min                  0.000000         0.000000                18.250000   \n",
            "25%                  0.000000         9.000000                35.425000   \n",
            "50%                  0.000000        29.000000                70.300000   \n",
            "75%                  0.000000        55.000000                89.875000   \n",
            "max                  1.000000        72.000000               118.750000   \n",
            "\n",
            "       account.Charges.Total  \n",
            "count            7267.000000  \n",
            "mean             2277.182035  \n",
            "std              2268.648587  \n",
            "min                 0.000000  \n",
            "25%               396.200000  \n",
            "50%              1389.200000  \n",
            "75%              3778.525000  \n",
            "max              8684.800000  \n",
            "\n",
            "\n",
            "--- ETAPA DE ANÁLISE 1: DISTRIBUIÇÃO DO CHURN ---\n",
            "\n",
            "Contagem de Clientes por Status:\n",
            "Churn\n",
            "No     5174\n",
            "Yes    1869\n",
            "        224\n",
            "Name: count, dtype: int64\n",
            "\n",
            "Percentual de Clientes por Status:\n",
            "Churn\n",
            "No     71.198569\n",
            "Yes    25.719004\n",
            "        3.082427\n",
            "Name: proportion, dtype: float64\n"
          ]
        },
        {
          "name": "stderr",
          "output_type": "stream",
          "text": [
            "C:\\Users\\luc_c\\AppData\\Local\\Temp\\ipykernel_49228\\451325599.py:16: FutureWarning: \n",
            "\n",
            "Passing `palette` without assigning `hue` is deprecated and will be removed in v0.14.0. Assign the `x` variable to `hue` and set `legend=False` for the same effect.\n",
            "\n",
            "  sns.countplot(x='Churn', data=df_transformado, palette=['#5cb85c', '#d9534f'])\n",
            "C:\\Users\\luc_c\\AppData\\Local\\Temp\\ipykernel_49228\\451325599.py:16: UserWarning: \n",
            "The palette list has fewer values (2) than needed (3) and will cycle, which may produce an uninterpretable plot.\n",
            "  sns.countplot(x='Churn', data=df_transformado, palette=['#5cb85c', '#d9534f'])\n"
          ]
        },
        {
          "data": {
            "image/png": "[encoded data removed]",
            "text/plain": [
              "<Figure size 800x600 with 1 Axes>"
            ]
          },
          "metadata": {},
          "output_type": "display_data"
        },
        {
          "name": "stdout",
          "output_type": "stream",
          "text": [
            "\n",
            "\n",
            "--- ETAPA DE ANÁLISE 2: CHURN vs TEMPO DE CONTRATO (TENURE) ---\n",
            "\n",
            "Tempo Médio de Contrato (em meses) por Status de Churn:\n",
            "Churn\n",
            "       31.571429\n",
            "No     37.569965\n",
            "Yes    17.979133\n",
            "Name: customer.tenure, dtype: float64\n"
          ]
        },
        {
          "name": "stderr",
          "output_type": "stream",
          "text": [
            "C:\\Users\\luc_c\\AppData\\Local\\Temp\\ipykernel_49228\\451325599.py:30: FutureWarning: \n",
            "\n",
            "Passing `palette` without assigning `hue` is deprecated and will be removed in v0.14.0. Assign the `x` variable to `hue` and set `legend=False` for the same effect.\n",
            "\n",
            "  sns.boxplot(x='Churn', y='customer.tenure', data=df_transformado, palette=['#5cb85c', '#d9534f'])\n",
            "C:\\Users\\luc_c\\AppData\\Local\\Temp\\ipykernel_49228\\451325599.py:30: UserWarning: \n",
            "The palette list has fewer values (2) than needed (3) and will cycle, which may produce an uninterpretable plot.\n",
            "  sns.boxplot(x='Churn', y='customer.tenure', data=df_transformado, palette=['#5cb85c', '#d9534f'])\n"
          ]
        },
        {
          "data": {
            "image/png": "[encoded data removed]",
            "text/plain": [
              "<Figure size 800x600 with 1 Axes>"
            ]
          },
          "metadata": {},
          "output_type": "display_data"
        }
      ],
      "source": [
        "print(\"--- ETAPA DE CARGA: VERIFICAÇÃO FINAL DOS DADOS ---\")\n",
        "print(\"\\nResumo Estatístico das Colunas Numéricas:\")\n",
        "print(df_transformado.describe())\n",
        "\n",
        "\n",
        "print(\"\\n\\n--- ETAPA DE ANÁLISE 1: DISTRIBUIÇÃO DO CHURN ---\")\n",
        "churn_counts = df_transformado['Churn'].value_counts()\n",
        "churn_percentage = df_transformado['Churn'].value_counts(normalize=True) * 100\n",
        "\n",
        "print(\"\\nContagem de Clientes por Status:\")\n",
        "print(churn_counts)\n",
        "print(\"\\nPercentual de Clientes por Status:\")\n",
        "print(churn_percentage)\n",
        "\n",
        "plt.figure(figsize=(8, 6))\n",
        "sns.countplot(x='Churn', data=df_transformado, palette=['#5cb85c', '#d9534f'])\n",
        "plt.title('Distribuição de Clientes por Status de Churn', fontsize=16)\n",
        "plt.xlabel('Cliente Cancelou?', fontsize=12)\n",
        "plt.ylabel('Número de Clientes', fontsize=12)\n",
        "plt.show()\n",
        "\n",
        "\n",
        "print(\"\\n\\n--- ETAPA DE ANÁLISE 2: CHURN vs TEMPO DE CONTRATO (TENURE) ---\")\n",
        "avg_tenure_by_churn = df_transformado.groupby('Churn')['customer.tenure'].mean()\n",
        "\n",
        "print(\"\\nTempo Médio de Contrato (em meses) por Status de Churn:\")\n",
        "print(avg_tenure_by_churn)\n",
        "\n",
        "plt.figure(figsize=(8, 6))\n",
        "sns.boxplot(x='Churn', y='customer.tenure', data=df_transformado, palette=['#5cb85c', '#d9534f'])\n",
        "plt.title('Distribuição do Tempo de Contrato por Status de Churn', fontsize=16)\n",
        "plt.xlabel('Cliente Cancelou?', fontsize=12)\n",
        "plt.ylabel('Tempo de Contrato (Meses)', fontsize=12)\n",
        "plt.show()"
      ]
    },
    {
      "cell_type": "markdown",
      "metadata": {
        "id": "v-WzfSvTmaw9"
      },
      "source": [
        "#📄Relatorio Final"
      ]
    },
    {
      "cell_type": "markdown",
      "metadata": {},
      "source": [
        "# Relatório Final: Análise de Evasão de Clientes – Telecom X\n",
        "## 1. Objetivo\n",
        "\n",
        "O principal objetivo deste projeto foi coletar, tratar e analisar os dados de clientes da Telecom X para identificar os fatores que levam à evasão (Churn), fornecendo insights que possam guiar futuras estratégias de retenção.\n",
        "\n",
        "## 2. Resumo das Etapas Executadas\n",
        "\n",
        "O projeto seguiu um fluxo padrão de análise de dados (ETL e Análise Exploratória):\n",
        "\n",
        "Extração: Os dados foram obtidos com sucesso a partir de uma fonte JSON. A estrutura inicial dos dados era aninhada, com informações de cliente, telefone, internet e conta agrupadas em dicionários.\n",
        "\n",
        "Transformação: A etapa de transformação foi crucial para preparar os dados para a análise. As colunas aninhadas foram desmembradas (achatadas), resultando em um DataFrame com 21 colunas e 7.267 registros de clientes. Além disso, a coluna account.Charges.Total foi tratada, convertendo valores não numéricos (espaços em branco) para zero e ajustando o tipo de dado para numérico (float64), garantindo a integridade para cálculos.\n",
        "\n",
        "Carga e Análise: Com o DataFrame limpo e estruturado, iniciou-se a análise exploratória para investigar a distribuição do Churn e sua relação com outras variáveis.\n",
        "\n",
        "## 3. Principais Descobertas e Insights\n",
        "\n",
        "A análise inicial dos dados revelou padrões claros que ajudam a entender o fenômeno da evasão de clientes.\n",
        "\n",
        "Insight 1: A Taxa de Evasão é Significativa, Mas Requer Atenção aos Dados\n",
        "A análise da variável Churn mostrou uma questão importante nos dados:\n",
        "\n",
        "Clientes que não cancelaram (No): 5.174 (71.2%)\n",
        "\n",
        "Clientes que cancelaram (Yes): 1.869 (25.7%)\n",
        "\n",
        "Status de Churn indefinido (vazio): 224 (3.1%)\n",
        "\n",
        "Desconsiderando os registros com status indefinido, a taxa de churn da empresa é de aproximadamente 26,5% (1.869 de 7.043 clientes). Este é um índice alto e justifica a urgência na criação de estratégias de retenção. A presença de 224 registros sem status definido é um ponto de atenção que deve ser investigado.\n",
        "\n",
        "Insight 2: Tempo de Contrato (Tenure) é um Fator Decisivo\n",
        "A análise mais impactante foi a relação entre o tempo de contrato do cliente e a probabilidade de evasão.\n",
        "\n",
        "O tempo médio de contrato para clientes que permanecem na empresa é de 37,6 meses.\n",
        "\n",
        "O tempo médio de contrato para clientes que cancelam é de apenas 18 meses.\n",
        "\n",
        "Conclusão: Clientes que cancelam o serviço ficam, em média, menos da metade do tempo dos que permanecem fiéis. O gráfico de boxplot confirma essa disparidade, mostrando que a grande maioria dos clientes que evadem o faz nos estágios iniciais de seu ciclo de vida com a empresa. Isso sugere que o período entre o primeiro e o segundo ano de contrato é o mais crítico para a retenção.\n",
        "\n",
        "## 4. Recomendações e Próximos Passos\n",
        "\n",
        "Com base nos insights gerados, as seguintes ações são recomendadas:\n",
        "\n",
        "Investigar a Qualidade dos Dados: É prioritário investigar a origem dos 224 registros com status de Churn vazio para garantir a precisão de análises futuras e modelos preditivos.\n",
        "\n",
        "Focar em Clientes Recentes: As estratégias de retenção devem ser intensificadas para clientes com menos de 18 meses de contrato. Programas de fidelidade, ofertas personalizadas e um acompanhamento proativo neste período podem reduzir significativamente a taxa de evasão.\n",
        "\n",
        "Aprofundar a Análise: Esta análise inicial focou no tempo de contrato. Os próximos passos devem incluir a investigação da relação do Churn com outras variáveis importantes disponíveis no dataset, como:\n",
        "\n",
        "Tipo de Contrato (account.Contract): Clientes com contratos mensais tendem a cancelar mais do que os com contratos anuais?\n",
        "\n",
        "Serviços Adicionais: Clientes que assinam serviços como internet.OnlineSecurity ou internet.TechSupport possuem uma taxa de evasão menor?\n",
        "\n",
        "Método de Pagamento e Faturamento (account.PaymentMethod e account.PaperlessBilling): Existem padrões de evasão associados a formas de pagamento específicas?\n",
        "\n",
        "Desenvolver um Modelo Preditivo: Com uma análise exploratória mais robusta, o time de Data Science terá uma base sólida para construir um modelo de machine learning capaz de prever a probabilidade de um cliente cancelar o serviço, permitindo ações de retenção ainda mais focadas e eficientes."
      ]
    }
  ],
  "metadata": {
    "colab": {
      "provenance": []
    },
    "kernelspec": {
      "display_name": "base",
      "language": "python",
      "name": "python3"
    },
    "language_info": {
      "codemirror_mode": {
        "name": "ipython",
        "version": 3
      },
      "file_extension": ".py",
      "mimetype": "text/x-python",
      "name": "python",
      "nbconvert_exporter": "python",
      "pygments_lexer": "ipython3",
      "version": "3.13.5"
    }
  },
  "nbformat": 4,
  "nbformat_minor": 0
}
